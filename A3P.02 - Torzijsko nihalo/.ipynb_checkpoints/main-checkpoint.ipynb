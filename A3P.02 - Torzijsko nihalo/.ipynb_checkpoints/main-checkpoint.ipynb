{
 "cells": [
  {
   "cell_type": "code",
   "execution_count": 44,
   "metadata": {},
   "outputs": [
    {
     "data": {
      "text/html": [
       "<div><div style = \"float: left;\"><span>7×3 DataFrame</span></div><div style = \"clear: both;\"></div></div><div class = \"data-frame\" style = \"overflow-x: scroll;\"><table class = \"data-frame\" style = \"margin-bottom: 6px;\"><thead><tr class = \"header\"><th class = \"rowNumber\" style = \"font-weight: bold; text-align: right;\">Row</th><th style = \"text-align: left;\">Upor(ohm)</th><th style = \"text-align: left;\">a(mm)</th><th style = \"text-align: left;\">a-l(mm)</th></tr><tr class = \"subheader headerLastRow\"><th class = \"rowNumber\" style = \"font-weight: bold; text-align: right;\"></th><th title = \"Int64\" style = \"text-align: left;\">Int64</th><th title = \"Int64\" style = \"text-align: left;\">Int64</th><th title = \"Int64\" style = \"text-align: left;\">Int64</th></tr></thead><tbody><tr><td class = \"rowNumber\" style = \"font-weight: bold; text-align: right;\">1</td><td style = \"text-align: right;\">10</td><td style = \"text-align: right;\">677</td><td style = \"text-align: right;\">331</td></tr><tr><td class = \"rowNumber\" style = \"font-weight: bold; text-align: right;\">2</td><td style = \"text-align: right;\">20</td><td style = \"text-align: right;\">825</td><td style = \"text-align: right;\">182</td></tr><tr><td class = \"rowNumber\" style = \"font-weight: bold; text-align: right;\">3</td><td style = \"text-align: right;\">30</td><td style = \"text-align: right;\">902</td><td style = \"text-align: right;\">125</td></tr><tr><td class = \"rowNumber\" style = \"font-weight: bold; text-align: right;\">4</td><td style = \"text-align: right;\">5</td><td style = \"text-align: right;\">499</td><td style = \"text-align: right;\">506</td></tr><tr><td class = \"rowNumber\" style = \"font-weight: bold; text-align: right;\">5</td><td style = \"text-align: right;\">15</td><td style = \"text-align: right;\">774</td><td style = \"text-align: right;\">236</td></tr><tr><td class = \"rowNumber\" style = \"font-weight: bold; text-align: right;\">6</td><td style = \"text-align: right;\">25</td><td style = \"text-align: right;\">870</td><td style = \"text-align: right;\">142</td></tr><tr><td class = \"rowNumber\" style = \"font-weight: bold; text-align: right;\">7</td><td style = \"text-align: right;\">35</td><td style = \"text-align: right;\">922</td><td style = \"text-align: right;\">90</td></tr></tbody></table></div>"
      ],
      "text/latex": [
       "\\begin{tabular}{r|ccc}\n",
       "\t& Upor(ohm) & a(mm) & a-l(mm)\\\\\n",
       "\t\\hline\n",
       "\t& Int64 & Int64 & Int64\\\\\n",
       "\t\\hline\n",
       "\t1 & 10 & 677 & 331 \\\\\n",
       "\t2 & 20 & 825 & 182 \\\\\n",
       "\t3 & 30 & 902 & 125 \\\\\n",
       "\t4 & 5 & 499 & 506 \\\\\n",
       "\t5 & 15 & 774 & 236 \\\\\n",
       "\t6 & 25 & 870 & 142 \\\\\n",
       "\t7 & 35 & 922 & 90 \\\\\n",
       "\\end{tabular}\n"
      ],
      "text/plain": [
       "\u001b[1m7×3 DataFrame\u001b[0m\n",
       "\u001b[1m Row \u001b[0m│\u001b[1m Upor(ohm) \u001b[0m\u001b[1m a(mm) \u001b[0m\u001b[1m a-l(mm) \u001b[0m\n",
       "     │\u001b[90m Int64     \u001b[0m\u001b[90m Int64 \u001b[0m\u001b[90m Int64   \u001b[0m\n",
       "─────┼───────────────────────────\n",
       "   1 │        10    677      331\n",
       "   2 │        20    825      182\n",
       "   3 │        30    902      125\n",
       "   4 │         5    499      506\n",
       "   5 │        15    774      236\n",
       "   6 │        25    870      142\n",
       "   7 │        35    922       90"
      ]
     },
     "metadata": {},
     "output_type": "display_data"
    }
   ],
   "source": [
    "using Measurements, Plots, GLM, DataFrames, CSV, LaTeXStrings\n",
    "\n",
    "upor = CSV.read(\"resistor.csv\", DataFrame)\n",
    "zica = CSV.read(\"zica.csv\", DataFrame)"
   ]
  },
  {
   "cell_type": "code",
   "execution_count": 45,
   "metadata": {},
   "outputs": [
    {
     "data": {
      "text/html": [
       "<div><div style = \"float: left;\"><span>9×3 DataFrame</span></div><div style = \"clear: both;\"></div></div><div class = \"data-frame\" style = \"overflow-x: scroll;\"><table class = \"data-frame\" style = \"margin-bottom: 6px;\"><thead><tr class = \"header\"><th class = \"rowNumber\" style = \"font-weight: bold; text-align: right;\">Row</th><th style = \"text-align: left;\">Upor(KOhm)</th><th style = \"text-align: left;\">a(mm)</th><th style = \"text-align: left;\">l-a(mm)</th></tr><tr class = \"subheader headerLastRow\"><th class = \"rowNumber\" style = \"font-weight: bold; text-align: right;\"></th><th title = \"Int64\" style = \"text-align: left;\">Int64</th><th title = \"Int64\" style = \"text-align: left;\">Int64</th><th title = \"Int64\" style = \"text-align: left;\">Int64</th></tr></thead><tbody><tr><td class = \"rowNumber\" style = \"font-weight: bold; text-align: right;\">1</td><td style = \"text-align: right;\">1</td><td style = \"text-align: right;\">211</td><td style = \"text-align: right;\">814</td></tr><tr><td class = \"rowNumber\" style = \"font-weight: bold; text-align: right;\">2</td><td style = \"text-align: right;\">2</td><td style = \"text-align: right;\">312</td><td style = \"text-align: right;\">676</td></tr><tr><td class = \"rowNumber\" style = \"font-weight: bold; text-align: right;\">3</td><td style = \"text-align: right;\">3</td><td style = \"text-align: right;\">409</td><td style = \"text-align: right;\">577</td></tr><tr><td class = \"rowNumber\" style = \"font-weight: bold; text-align: right;\">4</td><td style = \"text-align: right;\">4</td><td style = \"text-align: right;\">484</td><td style = \"text-align: right;\">505</td></tr><tr><td class = \"rowNumber\" style = \"font-weight: bold; text-align: right;\">5</td><td style = \"text-align: right;\">5</td><td style = \"text-align: right;\">546</td><td style = \"text-align: right;\">439</td></tr><tr><td class = \"rowNumber\" style = \"font-weight: bold; text-align: right;\">6</td><td style = \"text-align: right;\">6</td><td style = \"text-align: right;\">586</td><td style = \"text-align: right;\">394</td></tr><tr><td class = \"rowNumber\" style = \"font-weight: bold; text-align: right;\">7</td><td style = \"text-align: right;\">7</td><td style = \"text-align: right;\">630</td><td style = \"text-align: right;\">354</td></tr><tr><td class = \"rowNumber\" style = \"font-weight: bold; text-align: right;\">8</td><td style = \"text-align: right;\">8</td><td style = \"text-align: right;\">661</td><td style = \"text-align: right;\">326</td></tr><tr><td class = \"rowNumber\" style = \"font-weight: bold; text-align: right;\">9</td><td style = \"text-align: right;\">9</td><td style = \"text-align: right;\">693</td><td style = \"text-align: right;\">291</td></tr></tbody></table></div>"
      ],
      "text/latex": [
       "\\begin{tabular}{r|ccc}\n",
       "\t& Upor(KOhm) & a(mm) & l-a(mm)\\\\\n",
       "\t\\hline\n",
       "\t& Int64 & Int64 & Int64\\\\\n",
       "\t\\hline\n",
       "\t1 & 1 & 211 & 814 \\\\\n",
       "\t2 & 2 & 312 & 676 \\\\\n",
       "\t3 & 3 & 409 & 577 \\\\\n",
       "\t4 & 4 & 484 & 505 \\\\\n",
       "\t5 & 5 & 546 & 439 \\\\\n",
       "\t6 & 6 & 586 & 394 \\\\\n",
       "\t7 & 7 & 630 & 354 \\\\\n",
       "\t8 & 8 & 661 & 326 \\\\\n",
       "\t9 & 9 & 693 & 291 \\\\\n",
       "\\end{tabular}\n"
      ],
      "text/plain": [
       "\u001b[1m9×3 DataFrame\u001b[0m\n",
       "\u001b[1m Row \u001b[0m│\u001b[1m Upor(KOhm) \u001b[0m\u001b[1m a(mm) \u001b[0m\u001b[1m l-a(mm) \u001b[0m\n",
       "     │\u001b[90m Int64      \u001b[0m\u001b[90m Int64 \u001b[0m\u001b[90m Int64   \u001b[0m\n",
       "─────┼────────────────────────────\n",
       "   1 │          1    211      814\n",
       "   2 │          2    312      676\n",
       "   3 │          3    409      577\n",
       "   4 │          4    484      505\n",
       "   5 │          5    546      439\n",
       "   6 │          6    586      394\n",
       "   7 │          7    630      354\n",
       "   8 │          8    661      326\n",
       "   9 │          9    693      291"
      ]
     },
     "metadata": {},
     "output_type": "display_data"
    }
   ],
   "source": [
    "upor"
   ]
  },
  {
   "cell_type": "code",
   "execution_count": 46,
   "metadata": {},
   "outputs": [
    {
     "data": {
      "text/plain": [
       "18-element Vector{Int64}:\n",
       " 1\n",
       " 2\n",
       " 3\n",
       " 4\n",
       " 5\n",
       " 6\n",
       " 7\n",
       " 8\n",
       " 9\n",
       " 1\n",
       " 2\n",
       " 3\n",
       " 4\n",
       " 5\n",
       " 6\n",
       " 7\n",
       " 8\n",
       " 9"
      ]
     },
     "metadata": {},
     "output_type": "display_data"
    }
   ],
   "source": [
    "l = 1000 #mm \n",
    "\n",
    "a = vcat(upor[!, \"a(mm)\"], l .- upor[!, \"l-a(mm)\"])\n",
    "la = l .- a\n",
    "x = a ./ la\n",
    "y = vcat(upor[!, \"Upor(KOhm)\"], upor[!, \"Upor(KOhm)\"])"
   ]
  },
  {
   "cell_type": "code",
   "execution_count": 47,
   "metadata": {},
   "outputs": [
    {
     "data": {
      "text/plain": [
       "StatsModels.TableRegressionModel{LinearModel{GLM.LmResp{Vector{Float64}}, GLM.DensePredChol{Float64, LinearAlgebra.CholeskyPivoted{Float64, Matrix{Float64}, Vector{Int64}}}}, Matrix{Float64}}\n",
       "\n",
       "y ~ 1 + x\n",
       "\n",
       "Coefficients:\n",
       "─────────────────────────────────────────────────────────────────────────\n",
       "                Coef.  Std. Error      t  Pr(>|t|)   Lower 95%  Upper 95%\n",
       "─────────────────────────────────────────────────────────────────────────\n",
       "(Intercept)  0.251306   0.114489    2.20    0.0433  0.00859963   0.494011\n",
       "x            3.8083     0.0807297  47.17    <1e-17  3.63716      3.97944\n",
       "─────────────────────────────────────────────────────────────────────────"
      ]
     },
     "metadata": {},
     "output_type": "display_data"
    }
   ],
   "source": [
    "m = lm(@formula(y ~ x), (;x, y))"
   ]
  },
  {
   "cell_type": "code",
   "execution_count": 49,
   "metadata": {},
   "outputs": [
    {
     "data": {
      "text/plain": [
       "\"/home/jakob/Documents/F - physics/F1 - 1. letnik/F2P - fizikalni praktikum 2/F2P.40 - vaja 40/upor.pdf\""
      ]
     },
     "metadata": {},
     "output_type": "display_data"
    }
   ],
   "source": [
    "t = plot()\n",
    "scatter(x, y, label=\"Meritve\", color=:black)\n",
    "p(x) = coef(m)[1] + coef(m)[2]*x\n",
    "plot!(p, label=\"fit\", lw=2, color=:red)\n",
    "xlabel!(L\"\\frac{l-a}{a}\")\n",
    "ylabel!(L\"R[k\\Omega]\")\n",
    "title!(\"Upor glede na razmerje\")\n",
    "savefig(\"upor.pdf\")"
   ]
  },
  {
   "cell_type": "code",
   "execution_count": 50,
   "metadata": {},
   "outputs": [
    {
     "data": {
      "text/latex": [
       "$3.808 \\pm 0.081$"
      ],
      "text/plain": [
       "3.808 ± 0.081"
      ]
     },
     "metadata": {},
     "output_type": "display_data"
    }
   ],
   "source": [
    "R_x = coef(m)[2] ± stderror(m)[2]"
   ]
  },
  {
   "cell_type": "code",
   "execution_count": 51,
   "metadata": {},
   "outputs": [
    {
     "data": {
      "text/plain": [
       "14-element Vector{Int64}:\n",
       " 10\n",
       " 20\n",
       " 30\n",
       "  5\n",
       " 15\n",
       " 25\n",
       " 35\n",
       " 10\n",
       " 20\n",
       " 30\n",
       "  5\n",
       " 15\n",
       " 25\n",
       " 35"
      ]
     },
     "metadata": {},
     "output_type": "display_data"
    }
   ],
   "source": [
    "l = 1000 #mm \n",
    "\n",
    "a = vcat(zica[!, \"a(mm)\"], l .- zica[!, \"a-l(mm)\"])\n",
    "la = l .- a\n",
    "x = a ./ la\n",
    "y = vcat(zica[!, \"Upor(ohm)\"], zica[!, \"Upor(ohm)\"])"
   ]
  },
  {
   "cell_type": "code",
   "execution_count": 52,
   "metadata": {},
   "outputs": [
    {
     "data": {
      "text/plain": [
       "StatsModels.TableRegressionModel{LinearModel{GLM.LmResp{Vector{Float64}}, GLM.DensePredChol{Float64, LinearAlgebra.CholeskyPivoted{Float64, Matrix{Float64}, Vector{Int64}}}}, Matrix{Float64}}\n",
       "\n",
       "y ~ 1 + x\n",
       "\n",
       "Coefficients:\n",
       "───────────────────────────────────────────────────────────────────────\n",
       "               Coef.  Std. Error      t  Pr(>|t|)  Lower 95%  Upper 95%\n",
       "───────────────────────────────────────────────────────────────────────\n",
       "(Intercept)  4.69331    1.2379     3.79    0.0026    1.99615    7.39046\n",
       "x            2.94236    0.200809  14.65    <1e-08    2.50484    3.37989\n",
       "───────────────────────────────────────────────────────────────────────"
      ]
     },
     "metadata": {},
     "output_type": "display_data"
    }
   ],
   "source": [
    "m = lm(@formula(y ~ x), (;x, y))"
   ]
  },
  {
   "cell_type": "code",
   "execution_count": 53,
   "metadata": {},
   "outputs": [
    {
     "data": {
      "text/plain": [
       "\"/home/jakob/Documents/F - physics/F1 - 1. letnik/F2P - fizikalni praktikum 2/F2P.40 - vaja 40/zica.pdf\""
      ]
     },
     "metadata": {},
     "output_type": "display_data"
    }
   ],
   "source": [
    "t = plot()\n",
    "scatter(x, y, label=\"Meritve\", color=:black)\n",
    "p(x) = coef(m)[1] + coef(m)[2]*x\n",
    "plot!(p, label=\"fit\", lw=2, color=:red)\n",
    "xlabel!(L\"\\frac{l-a}{a}\")\n",
    "ylabel!(L\"R[\\Omega]\")\n",
    "title!(\"Upor glede na razmerje\")\n",
    "savefig(\"zica.pdf\")"
   ]
  },
  {
   "cell_type": "code",
   "execution_count": 54,
   "metadata": {},
   "outputs": [
    {
     "data": {
      "text/latex": [
       "$2.94 \\pm 0.2$"
      ],
      "text/plain": [
       "2.94 ± 0.2"
      ]
     },
     "metadata": {},
     "output_type": "display_data"
    }
   ],
   "source": [
    "R_x = coef(m)[2] ± stderror(m)[2]"
   ]
  },
  {
   "cell_type": "code",
   "execution_count": 56,
   "metadata": {},
   "outputs": [
    {
     "data": {
      "text/latex": [
       "$2.31e-6 \\pm 4.9e-7$"
      ],
      "text/plain": [
       "2.31e-6 ± 4.9e-7"
      ]
     },
     "metadata": {},
     "output_type": "display_data"
    }
   ],
   "source": [
    "s = R_x * ((0.0005 ± 0.00005)^2 * π) / 1"
   ]
  }
 ],
 "metadata": {
  "kernelspec": {
   "display_name": "Julia 1.10.1",
   "language": "julia",
   "name": "julia-1.10"
  },
  "language_info": {
   "file_extension": ".jl",
   "mimetype": "application/julia",
   "name": "julia",
   "version": "1.10.1"
  },
  "orig_nbformat": 4
 },
 "nbformat": 4,
 "nbformat_minor": 2
}
